{
  "nbformat": 4,
  "nbformat_minor": 0,
  "metadata": {
    "colab": {
      "provenance": []
    },
    "kernelspec": {
      "name": "python3",
      "display_name": "Python 3"
    },
    "language_info": {
      "name": "python"
    }
  },
  "cells": [
    {
      "cell_type": "code",
      "execution_count": null,
      "metadata": {
        "id": "QPz8l8rflWIp"
      },
      "outputs": [],
      "source": [
        "#Imports and packages\n",
        "\n",
        "import pandas as pd     #For this project I will be using Pandas for scrapping and generating DataFrames\n",
        "import ssl              #The SSL Library will be used for creating a context to disable SSL verification which is required for the Port of Santos website but optional for Port Paranagua\n",
        "import urllib.request   #Used to open the HTML without SSL verification for use in Pandas\n",
        "from google.colab import files"
      ]
    },
    {
      "cell_type": "code",
      "source": [
        "#URLs and SSL treatment\n",
        "\n",
        "context = ssl._create_unverified_context() #Creates the unverified context for SSL\n",
        "\n",
        "paranagua = 'https://www.appaweb.appa.pr.gov.br/appaweb/pesquisa.aspx?WCI=relLineUpRetroativo' #URL for the Port of Paranagua\n",
        "santos = 'https://www.portodesantos.com.br/informacoes-operacionais/operacoes-portuarias/navegacao-e-movimento-de-navios/navios-esperados-carga/' #URL for the Port of Santos\n",
        "\n",
        "urlParanagua = urllib.request.urlopen(paranagua, context=context).read()  #Reads the HTML without SSL for the Port of Paranagua\n",
        "urlSantos = urllib.request.urlopen(santos, context=context).read()        #Reads the HTML without SSL for the Port of Santos\n"
      ],
      "metadata": {
        "id": "Ddi-xqe8mEWn"
      },
      "execution_count": null,
      "outputs": []
    },
    {
      "cell_type": "code",
      "source": [
        "#Creation of Data Frames\n",
        "\n",
        "paranaguaDFs = pd.read_html(urlParanagua) #Create an array of Data Frames for the Paranagua Port\n",
        "santosDFs = pd.read_html(urlSantos)       #Create an array of Data Frames for the Santos Port"
      ],
      "metadata": {
        "id": "IAnPoFrgtqfF"
      },
      "execution_count": null,
      "outputs": []
    },
    {
      "cell_type": "code",
      "source": [
        "#Mapping all the Data Frames in the Paranagua Port\n",
        "\n",
        "atracadosDF = None\n",
        "programadosDF = None\n",
        "alReatracacaoDF = None\n",
        "aoLargoDF = None\n",
        "esperadosDF = None\n",
        "apoioDF = None\n",
        "despachadosDF = None\n",
        "\n",
        "for i, df in enumerate(paranaguaDFs):\n",
        "    print(f\"Checking DataFrame {i}...\")\n",
        "    if not df.empty:\n",
        "        # Check each column at level 0\n",
        "        if 'ATRACADOS' in df.columns.get_level_values(0):\n",
        "            atracadosDF = df\n",
        "            atracadosDF.columns = atracadosDF.columns.droplevel(0)\n",
        "            print(\"Found ATRACADOS!\")\n",
        "        elif 'PROGRAMADOS' in df.columns.get_level_values(0):\n",
        "            programadosDF = df\n",
        "            programadosDF.columns = programadosDF.columns.droplevel(0)\n",
        "            print(\"Found PROGRAMADOS!\")\n",
        "        elif 'AO LARGO PARA REATRACAÇÃO' in df.columns.get_level_values(0):\n",
        "            alReatracacaoDF = df\n",
        "            alReatracacaoDF.columns = alReatracacaoDF.columns.droplevel(0)\n",
        "            print(\"Found AO LARGO PARA REATRACAÇÃO!\")\n",
        "        elif 'AO LARGO' in df.columns.get_level_values(0):\n",
        "            aoLargoDF = df\n",
        "            aoLargoDF.columns = aoLargoDF.columns.droplevel(0)\n",
        "            print(\"Found AO LARGO!\")\n",
        "        elif 'ESPERADOS' in df.columns.get_level_values(0):\n",
        "            esperadosDF = df\n",
        "            esperadosDF.columns = esperadosDF.columns.droplevel(0)\n",
        "            df.rename(columns={'ETA': 'Chegada'}, inplace=True)\n",
        "            print(\"Found ESPERADOS!\")\n",
        "        elif 'APOIO PORTUÁRIO / OUTROS' in df.columns.get_level_values(0):\n",
        "            apoioDF = df\n",
        "            apoioDF.columns = apoioDF.columns.droplevel(0)\n",
        "            print(\"Found APOIO PORTUÁRIO / OUTROS!\")\n",
        "        elif 'DESPACHADOS' in df.columns.get_level_values(0):\n",
        "            despachadosDF = df\n",
        "            despachadosDF.columns = despachadosDF.columns.droplevel(0)\n",
        "            print(\"Found DESPACHADOS!\")\n"
      ],
      "metadata": {
        "colab": {
          "base_uri": "https://localhost:8080/"
        },
        "id": "CfpnEF9KutIE",
        "outputId": "2588ccd2-1ea6-4a5c-c036-275cbd151808"
      },
      "execution_count": null,
      "outputs": [
        {
          "output_type": "stream",
          "name": "stdout",
          "text": [
            "Checking DataFrame 0...\n",
            "Checking DataFrame 1...\n",
            "Found ATRACADOS!\n",
            "Checking DataFrame 2...\n",
            "Found PROGRAMADOS!\n",
            "Checking DataFrame 3...\n",
            "Found AO LARGO PARA REATRACAÇÃO!\n",
            "Checking DataFrame 4...\n",
            "Found AO LARGO!\n",
            "Checking DataFrame 5...\n",
            "Found ESPERADOS!\n",
            "Checking DataFrame 6...\n",
            "Found APOIO PORTUÁRIO / OUTROS!\n",
            "Checking DataFrame 7...\n",
            "Found DESPACHADOS!\n",
            "Checking DataFrame 8...\n"
          ]
        }
      ]
    },
    {
      "cell_type": "code",
      "source": [
        "#Filtering all the data and making the dictionaries for the Port of Paranagua\n",
        "\n",
        "atracados = atracadosDF[['Mercadoria', 'Sentido', 'Chegada', 'Previsto']].copy()\n",
        "atracados['Porto'] = 'Paranaguá'\n",
        "atracados['Status'] = 'Atracado'\n",
        "dictAtracados = atracados.to_dict(orient = 'records')\n",
        "\n",
        "\n",
        "programados = programadosDF[['Mercadoria', 'Sentido', 'Chegada', 'Previsto']].copy()\n",
        "programados['Porto'] = 'Paranaguá'\n",
        "programados['Status'] = 'Programado'\n",
        "dictProgramados = programados.to_dict(orient = 'records')\n",
        "\n",
        "alReatracacao = alReatracacaoDF[['Mercadoria', 'Sentido', 'Chegada', 'Previsto']].copy()\n",
        "alReatracacao['Porto'] = 'Paranaguá'\n",
        "alReatracacao['Status'] = 'Ao Largo para Reatracação'\n",
        "dictAlReatracacao = alReatracacao.to_dict(orient = 'records')\n",
        "\n",
        "aoLargo = aoLargoDF[['Mercadoria', 'Sentido', 'Chegada', 'Previsto']].copy()\n",
        "aoLargo['Porto'] = 'Paranaguá'\n",
        "aoLargo['Status'] = 'Ao Largo'\n",
        "dictAoLargo = aoLargo.to_dict(orient = 'records')\n",
        "\n",
        "\n",
        "esperados = esperadosDF[['Mercadoria', 'Sentido', 'Chegada', 'Previsto']].copy()\n",
        "esperados['Porto'] = 'Paranaguá'\n",
        "esperados['Status'] = 'Esperado'\n",
        "dictEsperados = esperados.to_dict(orient = 'records')\n",
        "\n",
        "apoio = apoioDF[['Chegada']].copy()\n",
        "apoio['Mercadoria'] = 'Apoio Portuario'\n",
        "apoio['Sentido'] = 'Apoio Portuario'\n",
        "apoio['Previsto'] = 'Apoio Portuario'\n",
        "apoio['Porto'] = 'Paranaguá'\n",
        "apoio['Status'] = 'Apoio Portuario'\n",
        "dictApoio = apoio.to_dict(orient = 'records')\n",
        "\n",
        "despachados = despachadosDF[['Mercadoria', 'Sentido', 'Chegada', 'Previsto']].copy()\n",
        "despachados['Porto'] = 'Paranaguá'\n",
        "despachados['Status'] = 'Despachado'\n",
        "dictDespachados = despachados.to_dict(orient = 'records')"
      ],
      "metadata": {
        "id": "sPLRjUhJIXaC"
      },
      "execution_count": null,
      "outputs": []
    },
    {
      "cell_type": "code",
      "source": [
        "#mapping the Data Frames in the Santos Port\n",
        "\n",
        "liquidoAGranelDF = None\n",
        "trigoDF = None\n",
        "granelDeOrigemVegetalDF = None\n",
        "graneisSolidosImportacaoDF = None\n",
        "graneisSolidosExportacaoDF = None\n",
        "rollInRollOffDF = None\n",
        "lashDF = None\n",
        "cabotagemDF = None\n",
        "conteineresDF = None\n",
        "prioridadeC3DF = None\n",
        "prioridadeC5DF = None\n",
        "semPrioridadeDF = None\n",
        "\n",
        "\n",
        "for i, df in enumerate(santosDFs):\n",
        "  if not df.empty:\n",
        "    if 'LIQUIDO A GRANEL' in df.columns.get_level_values(0):\n",
        "      liquidoAGranelDF = df\n",
        "      liquidoAGranelDF.columns = liquidoAGranelDF.columns.droplevel(0)\n",
        "      df.rename(columns={'Mercadoria Goods': 'Mercadoria', 'Operaç Operat': 'Sentido', 'Cheg/Arrival d/m/y': 'Chegada', 'Peso Weight': 'Previsto'}, inplace=True)\n",
        "      df['Sentido'] = df['Sentido'].replace({\n",
        "        'EMB': 'Exp',         # Standardize 'emb' to 'exp'\n",
        "        'DESC': 'Imp',        # Standardize 'desc' to 'imp'\n",
        "        'EMB DESC': 'Imp/Exp' # Standardize 'emb desc' to 'exp/imp'\n",
        "      })\n",
        "      print(\"Found LiquidoAGranel!\")\n",
        "    elif 'TRIGO' in df.columns.get_level_values(0):\n",
        "      trigoDF = df\n",
        "      trigoDF.columns = trigoDF.columns.droplevel(0)\n",
        "      df.rename(columns={'Mercadoria Goods': 'Mercadoria', 'Operaç Operat': 'Sentido', 'Cheg/Arrival d/m/y': 'Chegada', 'Peso Weight': 'Previsto'}, inplace=True)\n",
        "      df['Sentido'] = df['Sentido'].replace({\n",
        "        'EMB': 'Exp',         # Standardize 'emb' to 'exp'\n",
        "        'DESC': 'Imp',        # Standardize 'desc' to 'imp'\n",
        "        'EMB DESC': 'Imp/Exp' # Standardize 'emb desc' to 'exp/imp'\n",
        "      })\n",
        "      print(\"Found Trigo!\")\n",
        "    elif 'GRANEIS DE ORIGEM VEGETAL' in df.columns.get_level_values(0):\n",
        "      granelDeOrigemVegetalDF = df\n",
        "      granelDeOrigemVegetalDF.columns = granelDeOrigemVegetalDF.columns.droplevel(0)\n",
        "      df.rename(columns={'Mercadoria Goods': 'Mercadoria', 'Operaç Operat': 'Sentido', 'Cheg/Arrival d/m/y': 'Chegada', 'Peso Weight': 'Previsto'}, inplace=True)\n",
        "      df['Sentido'] = df['Sentido'].replace({\n",
        "        'EMB': 'Exp',         # Standardize 'emb' to 'exp'\n",
        "        'DESC': 'Imp',        # Standardize 'desc' to 'imp'\n",
        "        'EMB DESC': 'Imp/Exp' # Standardize 'emb desc' to 'exp/imp'\n",
        "        })\n",
        "      print(\"Found GranelDeOrigemVegetal!\")\n",
        "    elif 'GRANEIS SOLIDOS - IMPORTACAO' in df.columns.get_level_values(0):\n",
        "      graneisSolidosImportacaoDF = df\n",
        "      graneisSolidosImportacaoDF.columns = graneisSolidosImportacaoDF.columns.droplevel(0)\n",
        "      df.rename(columns={'Mercadoria Goods': 'Mercadoria', 'Operaç Operat': 'Sentido', 'Cheg/Arrival d/m/y': 'Chegada', 'Peso Weight': 'Previsto'}, inplace=True)\n",
        "      df['Sentido'] = df['Sentido'].replace({\n",
        "        'EMB': 'Exp',         # Standardize 'emb' to 'exp'\n",
        "        'DESC': 'Imp',        # Standardize 'desc' to 'imp'\n",
        "        'EMB DESC': 'Imp/Exp' # Standardize 'emb desc' to 'exp/imp'\n",
        "        })\n",
        "      print(\"Found GraneisSolidosImportacao!\")\n",
        "    elif 'GRANEIS SOLIDOS - EXPORTACAO' in df.columns.get_level_values(0):\n",
        "      graneisSolidosExportacaoDF = df\n",
        "      graneisSolidosExportacaoDF.columns = graneisSolidosExportacaoDF.columns.droplevel(0)\n",
        "      df.rename(columns={'Mercadoria Goods': 'Mercadoria', 'Operaç Operat': 'Sentido', 'Cheg/Arrival d/m/y': 'Chegada', 'Peso Weight': 'Previsto'}, inplace=True)\n",
        "      df['Sentido'] = df['Sentido'].replace({\n",
        "        'EMB': 'Exp',         # Standardize 'emb' to 'exp'\n",
        "        'DESC': 'Imp',        # Standardize 'desc' to 'imp'\n",
        "        'EMB DESC': 'Imp/Exp' # Standardize 'emb desc' to 'exp/imp'\n",
        "        })\n",
        "      print(\"Found GraneisSolidosExportacao!\")\n",
        "    elif 'ROLL-IN-ROLL-OFF' in df.columns.get_level_values(0):\n",
        "      rollInRollOffDF = df\n",
        "      rollInRollOffDF.columns = rollInRollOffDF.columns.droplevel(0)\n",
        "      df.rename(columns={'Mercadoria Goods': 'Mercadoria', 'Operaç Operat': 'Sentido', 'Cheg/Arrival d/m/y': 'Chegada', 'Peso Weight': 'Previsto'}, inplace=True)\n",
        "      df['Sentido'] = df['Sentido'].replace({\n",
        "        'EMB': 'Exp',         # Standardize 'emb' to 'exp'\n",
        "        'DESC': 'Imp',        # Standardize 'desc' to 'imp'\n",
        "        'EMB DESC': 'Imp/Exp' # Standardize 'emb desc' to 'exp/imp'\n",
        "        })\n",
        "      print(\"Found RollInRollOff!\")\n",
        "    elif 'LASH' in df.columns.get_level_values(0):\n",
        "      lashDF = df\n",
        "      lashDF.columns = lashDF.columns.droplevel(0)\n",
        "      df.rename(columns={'Mercadoria Goods': 'Mercadoria', 'Operaç Operat': 'Sentido', 'Cheg/Arrival d/m/y': 'Chegada', 'Peso Weight': 'Previsto'}, inplace=True)\n",
        "      df['Sentido'] = df['Sentido'].replace({\n",
        "        'EMB': 'Exp',         # Standardize 'emb' to 'exp'\n",
        "        'DESC': 'Imp',        # Standardize 'desc' to 'imp'\n",
        "        'EMB DESC': 'Imp/Exp' # Standardize 'emb desc' to 'exp/imp'\n",
        "        })\n",
        "      print(\"Found Lash!\")\n",
        "    elif 'CABOTAGEM' in df.columns.get_level_values(0):\n",
        "      cabotagemDF = df\n",
        "      cabotagemDF.columns = cabotagemDF.columns.droplevel(0)\n",
        "      df.rename(columns={'Mercadoria Goods': 'Mercadoria', 'Operaç Operat': 'Sentido', 'Cheg/Arrival d/m/y': 'Chegada', 'Peso Weight': 'Previsto'}, inplace=True)\n",
        "      df['Sentido'] = df['Sentido'].replace({\n",
        "        'EMB': 'Exp',         # Standardize 'emb' to 'exp'\n",
        "        'DESC': 'Imp',        # Standardize 'desc' to 'imp'\n",
        "        'EMB DESC': 'Imp/Exp' # Standardize 'emb desc' to 'exp/imp'\n",
        "        })\n",
        "      print(\"Found Cabotagem!\")\n",
        "    elif 'CONTEINERES' in df.columns.get_level_values(0):\n",
        "      conteineresDF = df\n",
        "      conteineresDF.columns = conteineresDF.columns.droplevel(0)\n",
        "      df.rename(columns={'Mercadoria Goods': 'Mercadoria', 'Operaç Operat': 'Sentido', 'Cheg/Arrival d/m/y': 'Chegada', 'Peso Weight': 'Previsto'}, inplace=True)\n",
        "      df['Sentido'] = df['Sentido'].replace({\n",
        "        'EMB': 'Exp',         # Standardize 'emb' to 'exp'\n",
        "        'DESC': 'Imp',        # Standardize 'desc' to 'imp'\n",
        "        'EMB DESC': 'Imp/Exp' # Standardize 'emb desc' to 'exp/imp'\n",
        "        })\n",
        "      print(\"Found Conteineres!\")\n",
        "    elif 'PRIORIDADE C3' in df.columns.get_level_values(0):\n",
        "      prioridadeC3DF = df\n",
        "      prioridadeC3DF.columns = prioridadeC3DF.columns.droplevel(0)\n",
        "      df.rename(columns={'Mercadoria Goods': 'Mercadoria', 'Operaç Operat': 'Sentido', 'Cheg/Arrival d/m/y': 'Chegada', 'Peso Weight': 'Previsto'}, inplace=True)\n",
        "      df['Sentido'] = df['Sentido'].replace({\n",
        "        'EMB': 'Exp',         # Standardize 'emb' to 'exp'\n",
        "        'DESC': 'Imp',        # Standardize 'desc' to 'imp'\n",
        "        'EMB DESC': 'Imp/Exp' # Standardize 'emb desc' to 'exp/imp'\n",
        "        })\n",
        "      print(\"Found PrioridadeC3!\")\n",
        "    elif 'PRIORIDADE C5' in df.columns.get_level_values(0):\n",
        "      prioridadeC5DF = df\n",
        "      prioridadeC5DF.columns = prioridadeC5DF.columns.droplevel(0)\n",
        "      df.rename(columns={'Mercadoria Goods': 'Mercadoria', 'Operaç Operat': 'Sentido', 'Cheg/Arrival d/m/y': 'Chegada', 'Peso Weight': 'Previsto'}, inplace=True)\n",
        "      df['Sentido'] = df['Sentido'].replace({\n",
        "        'EMB': 'Exp',         # Standardize 'emb' to 'exp'\n",
        "        'DESC': 'Imp',        # Standardize 'desc' to 'imp'\n",
        "        'EMB DESC': 'Imp/Exp' # Standardize 'emb desc' to 'exp/imp'\n",
        "        })\n",
        "      print(\"Found PrioridadeC5!\")\n",
        "    elif 'SEM PRIORIDADE' in df.columns.get_level_values(0):\n",
        "      semPrioridadeDF = df\n",
        "      semPrioridadeDF.columns = semPrioridadeDF.columns.droplevel(0)\n",
        "      df.rename(columns={'Mercadoria Goods': 'Mercadoria', 'Operaç Operat': 'Sentido', 'Cheg/Arrival d/m/y': 'Chegada', 'Peso Weight': 'Previsto'}, inplace=True)\n",
        "      df['Sentido'] = df['Sentido'].replace({\n",
        "        'EMB': 'Exp',         # Standardize 'emb' to 'exp'\n",
        "        'DESC': 'Imp',        # Standardize 'desc' to 'imp'\n",
        "        'EMB DESC': 'Imp/Exp' # Standardize 'emb desc' to 'exp/imp'\n",
        "        })\n",
        "      print(\"Found SemPrioridade!\")\n"
      ],
      "metadata": {
        "id": "SfrP_5JTQspP",
        "colab": {
          "base_uri": "https://localhost:8080/"
        },
        "outputId": "eaba8794-9e95-466e-b73a-cdc59e45329e"
      },
      "execution_count": null,
      "outputs": [
        {
          "output_type": "stream",
          "name": "stdout",
          "text": [
            "Found LiquidoAGranel!\n",
            "Found Trigo!\n",
            "Found GranelDeOrigemVegetal!\n",
            "Found GraneisSolidosImportacao!\n",
            "Found GraneisSolidosExportacao!\n",
            "Found RollInRollOff!\n",
            "Found Lash!\n",
            "Found Cabotagem!\n",
            "Found Conteineres!\n",
            "Found PrioridadeC3!\n",
            "Found PrioridadeC5!\n",
            "Found SemPrioridade!\n"
          ]
        }
      ]
    },
    {
      "cell_type": "code",
      "source": [
        "#Filtering all the data for the port of Santos\n",
        "\n",
        "liquidoAGranel = liquidoAGranelDF[['Mercadoria', 'Sentido', 'Chegada', 'Previsto']].copy()\n",
        "liquidoAGranel['Porto'] = 'Santos'\n",
        "liquidoAGranel['Status'] = 'Liquido A Granel'\n",
        "dictLiquidoAGranel = liquidoAGranel.to_dict(orient = 'records')\n",
        "print(dictLiquidoAGranel)\n",
        "\n",
        "trigo = trigoDF[['Mercadoria', 'Sentido', 'Chegada', 'Previsto']].copy()\n",
        "trigo['Porto'] = 'Santos'\n",
        "trigo['Status'] = 'Trigo'\n",
        "dictTrigo = trigo.to_dict(orient = 'records')\n",
        "\n",
        "granelDeOrigemVegetal = granelDeOrigemVegetalDF[['Mercadoria', 'Sentido', 'Chegada', 'Previsto']].copy()\n",
        "granelDeOrigemVegetal['Porto'] = 'Santos'\n",
        "granelDeOrigemVegetal['Status'] = 'Granel De Origem Vegetal'\n",
        "dictGranelDeOrigemVegetal = granelDeOrigemVegetal.to_dict(orient = 'records')\n",
        "\n",
        "graneisSolidosImportacao = graneisSolidosImportacaoDF[['Mercadoria', 'Sentido', 'Chegada', 'Previsto']].copy()\n",
        "graneisSolidosImportacao['Porto'] = 'Santos'\n",
        "graneisSolidosImportacao['Status'] = 'Graneis Solidos Importacao'\n",
        "dictGraneisSolidosImportacao = graneisSolidosImportacao.to_dict(orient = 'records')\n",
        "\n",
        "graneisSolidosExportacao = graneisSolidosExportacaoDF[['Mercadoria', 'Sentido', 'Chegada', 'Previsto']].copy()\n",
        "graneisSolidosExportacao['Porto'] = 'Santos'\n",
        "graneisSolidosExportacao['Status'] = 'Graneis Solidos Exportacao'\n",
        "dictGraneisSolidosExportacao = graneisSolidosExportacao.to_dict(orient = 'records')\n",
        "\n",
        "rollInRollOff = rollInRollOffDF[['Mercadoria', 'Sentido', 'Chegada', 'Previsto']].copy()\n",
        "rollInRollOff['Porto'] = 'Santos'\n",
        "rollInRollOff['Status'] = 'Roll In Roll Off'\n",
        "dictRollInRollOff = rollInRollOff.to_dict(orient = 'records')\n",
        "\n",
        "lash = lashDF[['Mercadoria', 'Sentido', 'Chegada', 'Previsto']].copy()\n",
        "lash['Porto'] = 'Santos'\n",
        "lash['Status'] = 'Lash'\n",
        "dictLash = lash.to_dict(orient = 'records')\n",
        "\n",
        "cabotagem = cabotagemDF[['Mercadoria', 'Sentido', 'Chegada', 'Previsto']].copy()\n",
        "cabotagem['Porto'] = 'Santos'\n",
        "cabotagem['Status'] = 'Cabotagem'\n",
        "dictCabotagem = cabotagem.to_dict(orient = 'records')\n",
        "\n",
        "conteineres = conteineresDF[['Mercadoria', 'Sentido', 'Chegada', 'Previsto']].copy()\n",
        "conteineres['Porto'] = 'Santos'\n",
        "conteineres['Status'] = 'Conteiners'\n",
        "dictConteineres = conteineres.to_dict(orient = 'records')\n",
        "\n",
        "prioridadeC3 = prioridadeC3DF[['Mercadoria', 'Sentido', 'Chegada', 'Previsto']].copy()\n",
        "prioridadeC3['Porto'] = 'Santos'\n",
        "prioridadeC3['Status'] = 'Prioridade C3'\n",
        "dictPrioridadeC3 = prioridadeC3.to_dict(orient = 'records')\n",
        "\n",
        "prioridadeC5 = prioridadeC5DF[['Mercadoria', 'Sentido', 'Chegada', 'Previsto']].copy()\n",
        "prioridadeC5['Porto'] = 'Santos'\n",
        "prioridadeC5['Status'] = 'Prioridade C5'\n",
        "dictPrioridadeC5 = prioridadeC5.to_dict(orient = 'records')\n",
        "\n",
        "semPrioridade = semPrioridadeDF[['Mercadoria', 'Sentido', 'Chegada', 'Previsto']].copy()\n",
        "semPrioridade['Porto'] = 'Santos'\n",
        "semPrioridade['Status'] = 'Sem Prioridade'\n",
        "dictSemPrioridade = semPrioridade.to_dict(orient = 'records')"
      ],
      "metadata": {
        "colab": {
          "base_uri": "https://localhost:8080/"
        },
        "id": "rWSU-WJwX64y",
        "outputId": "cf7066bb-8582-4e3f-9cc3-d5d9a499484a"
      },
      "execution_count": null,
      "outputs": [
        {
          "output_type": "stream",
          "name": "stdout",
          "text": [
            "[{'Mercadoria': 'OLEO DIESEL', 'Sentido': 'Imp', 'Chegada': '22/10/2024 08:42:00', 'Previsto': '26192', 'Porto': 'Santos', 'Status': 'Liquido A Granel'}, {'Mercadoria': 'ETHANOL', 'Sentido': 'Exp', 'Chegada': '29/10/2024 13:30:00', 'Previsto': '29804', 'Porto': 'Santos', 'Status': 'Liquido A Granel'}, {'Mercadoria': 'OLEO DIESEL', 'Sentido': 'Imp', 'Chegada': '30/10/2024 10:00:00', 'Previsto': '39151', 'Porto': 'Santos', 'Status': 'Liquido A Granel'}, {'Mercadoria': 'GAS LIQUEFEITO', 'Sentido': 'Imp', 'Chegada': '01/11/2024', 'Previsto': '4000', 'Porto': 'Santos', 'Status': 'Liquido A Granel'}, {'Mercadoria': 'OLEO DIESEL', 'Sentido': 'Exp', 'Chegada': '01/11/2024', 'Previsto': '45000', 'Porto': 'Santos', 'Status': 'Liquido A Granel'}, {'Mercadoria': 'OLEO COMBUSTIVEL', 'Sentido': 'Exp', 'Chegada': '01/11/2024', 'Previsto': '25000', 'Porto': 'Santos', 'Status': 'Liquido A Granel'}, {'Mercadoria': 'OLEO LUBRIFICANTE OLEO LUBRIFICANTE', 'Sentido': 'Imp/Exp', 'Chegada': '01/11/2024', 'Previsto': '1060 1232', 'Porto': 'Santos', 'Status': 'Liquido A Granel'}, {'Mercadoria': 'GRAN.LIQUIDO NAO ESPECIF', 'Sentido': 'Imp', 'Chegada': '01/11/2024', 'Previsto': '14100', 'Porto': 'Santos', 'Status': 'Liquido A Granel'}, {'Mercadoria': 'OLEO COMBUSTIVEL', 'Sentido': 'Exp', 'Chegada': '01/11/2024', 'Previsto': '60000', 'Porto': 'Santos', 'Status': 'Liquido A Granel'}, {'Mercadoria': 'GASOLINA COMUM', 'Sentido': 'Exp', 'Chegada': '01/11/2024', 'Previsto': '30000', 'Porto': 'Santos', 'Status': 'Liquido A Granel'}, {'Mercadoria': 'OLEO DIESEL', 'Sentido': 'Exp', 'Chegada': '01/11/2024', 'Previsto': '35000', 'Porto': 'Santos', 'Status': 'Liquido A Granel'}, {'Mercadoria': 'OLEO DIESEL', 'Sentido': 'Exp', 'Chegada': '01/11/2024', 'Previsto': '30000', 'Porto': 'Santos', 'Status': 'Liquido A Granel'}, {'Mercadoria': 'GRAN.LIQUIDO NAO ESPECIF', 'Sentido': 'Imp', 'Chegada': '01/11/2024 13:00:00', 'Previsto': '10000', 'Porto': 'Santos', 'Status': 'Liquido A Granel'}, {'Mercadoria': 'GASOLINA COMUM', 'Sentido': 'Exp', 'Chegada': '01/11/2024 15:00:00', 'Previsto': '25000', 'Porto': 'Santos', 'Status': 'Liquido A Granel'}, {'Mercadoria': 'OLEO DIESEL', 'Sentido': 'Exp', 'Chegada': '01/11/2024 17:20:00', 'Previsto': '30000', 'Porto': 'Santos', 'Status': 'Liquido A Granel'}, {'Mercadoria': 'SUCOS CITRICOS A GRANEL', 'Sentido': 'Exp', 'Chegada': '02/11/2024 08:00:00', 'Previsto': '32', 'Porto': 'Santos', 'Status': 'Liquido A Granel'}, {'Mercadoria': 'OLEO DIESEL', 'Sentido': 'Exp', 'Chegada': '03/11/2024 01:00:00', 'Previsto': '30100', 'Porto': 'Santos', 'Status': 'Liquido A Granel'}, {'Mercadoria': 'SUCOS CITRICOS A GRANEL', 'Sentido': 'Exp', 'Chegada': '03/11/2024 09:31:00', 'Previsto': '28250', 'Porto': 'Santos', 'Status': 'Liquido A Granel'}, {'Mercadoria': 'GRAN.LIQUIDO NAO ESPECIF', 'Sentido': 'Imp', 'Chegada': '03/11/2024 23:59:00', 'Previsto': '63356', 'Porto': 'Santos', 'Status': 'Liquido A Granel'}, {'Mercadoria': 'ACIDO FOSFORICO', 'Sentido': 'Imp', 'Chegada': '05/11/2024 02:00:00', 'Previsto': '13828', 'Porto': 'Santos', 'Status': 'Liquido A Granel'}, {'Mercadoria': 'GRAN.LIQUIDO NAO ESPECIF', 'Sentido': 'Imp', 'Chegada': '06/11/2024 07:00:00', 'Previsto': '16000', 'Porto': 'Santos', 'Status': 'Liquido A Granel'}, {'Mercadoria': 'OLEO DIESEL', 'Sentido': 'Imp', 'Chegada': '07/11/2024 05:00:00', 'Previsto': '39884', 'Porto': 'Santos', 'Status': 'Liquido A Granel'}, {'Mercadoria': 'GRAN.LIQUIDO NAO ESPECIF', 'Sentido': 'Imp', 'Chegada': '07/11/2024 07:00:00', 'Previsto': '2500', 'Porto': 'Santos', 'Status': 'Liquido A Granel'}, {'Mercadoria': 'GRAN.LIQUIDO NAO ESPECIF', 'Sentido': 'Exp', 'Chegada': '08/11/2024 07:00:00', 'Previsto': '15848', 'Porto': 'Santos', 'Status': 'Liquido A Granel'}, {'Mercadoria': 'SUCOS CITRICOS A GRANEL', 'Sentido': 'Exp', 'Chegada': '10/11/2024 05:19:00', 'Previsto': '17000', 'Porto': 'Santos', 'Status': 'Liquido A Granel'}, {'Mercadoria': 'GAS LIQUEFEITO', 'Sentido': 'Imp', 'Chegada': '15/11/2024 09:57:00', 'Previsto': '5000', 'Porto': 'Santos', 'Status': 'Liquido A Granel'}, {'Mercadoria': 'SUCOS CITRICOS A GRANEL', 'Sentido': 'Exp', 'Chegada': '20/11/2024 05:25:00', 'Previsto': '19200', 'Porto': 'Santos', 'Status': 'Liquido A Granel'}, {'Mercadoria': 'SUCOS CITRICOS A GRANEL', 'Sentido': 'Exp', 'Chegada': '23/11/2024 05:31:00', 'Previsto': '16800', 'Porto': 'Santos', 'Status': 'Liquido A Granel'}, {'Mercadoria': 'SUCOS CITRICOS A GRANEL', 'Sentido': 'Exp', 'Chegada': '27/11/2024 05:39:00', 'Previsto': '13800', 'Porto': 'Santos', 'Status': 'Liquido A Granel'}]\n"
          ]
        }
      ]
    },
    {
      "cell_type": "code",
      "source": [
        "#merge_dict = {**dictAtracados, **dictProgramados, **dictAlReatracacao, **dictAoLargo, **dictEsperados, **dictApoio, **dictDespachados, **dictLiquidoAGranel, **dictTrigo, **dictGranelDeOrigemVegetal, **dictGraneisSolidosExportacao,**dictGraneisSolidosImportacao, **dictRollInRollOff, **dictLash, **dictCabotagem, **dictConteineres, **dictPrioridadeC3, **dictPrioridadeC5, **dictSemPrioridade}\n",
        "# Assuming your dict variables (dictAtracados, dictProgramados, etc.) are lists of dictionaries\n",
        "# Example: dictAtracados = [{'key1': 'value1'}, {'key2': 'value2'}]\n",
        "merged_dict = {}\n",
        "all_dicts = [dictAtracados, dictProgramados, dictAlReatracacao, dictAoLargo,\n",
        "             dictEsperados, dictApoio, dictDespachados, dictLiquidoAGranel,\n",
        "             dictTrigo, dictGranelDeOrigemVegetal, dictGraneisSolidosExportacao,\n",
        "             dictGraneisSolidosImportacao, dictRollInRollOff, dictLash,\n",
        "             dictCabotagem, dictConteineres, dictPrioridadeC3,\n",
        "             dictPrioridadeC5, dictSemPrioridade]\n",
        "\n",
        "# Flatten each list of dictionaries in all_dicts\n",
        "flattened_dicts = [item for sublist in all_dicts for item in sublist]\n",
        "\n",
        "# Convert flattened list of dictionaries to a single DataFrame for convenience\n",
        "# Here we assume the dictionaries have similar keys, so they can form a coherent table\n",
        "\n",
        "merged_df = pd.DataFrame(flattened_dicts)\n",
        "dictAll = merged_df.to_dict(orient = 'records')\n",
        "\n",
        "# Optionally save to a CSV file\n",
        "merged_df.to_csv('/content/merged_data.csv', index=False)\n",
        "files.download('/content/merged_data.csv')\n"
      ],
      "metadata": {
        "colab": {
          "base_uri": "https://localhost:8080/",
          "height": 17
        },
        "id": "2VCRZvNQbSPs",
        "outputId": "6e69ddb0-9fd0-4d4e-f63e-c7e39df03da9"
      },
      "execution_count": null,
      "outputs": [
        {
          "output_type": "display_data",
          "data": {
            "text/plain": [
              "<IPython.core.display.Javascript object>"
            ],
            "application/javascript": [
              "\n",
              "    async function download(id, filename, size) {\n",
              "      if (!google.colab.kernel.accessAllowed) {\n",
              "        return;\n",
              "      }\n",
              "      const div = document.createElement('div');\n",
              "      const label = document.createElement('label');\n",
              "      label.textContent = `Downloading \"${filename}\": `;\n",
              "      div.appendChild(label);\n",
              "      const progress = document.createElement('progress');\n",
              "      progress.max = size;\n",
              "      div.appendChild(progress);\n",
              "      document.body.appendChild(div);\n",
              "\n",
              "      const buffers = [];\n",
              "      let downloaded = 0;\n",
              "\n",
              "      const channel = await google.colab.kernel.comms.open(id);\n",
              "      // Send a message to notify the kernel that we're ready.\n",
              "      channel.send({})\n",
              "\n",
              "      for await (const message of channel.messages) {\n",
              "        // Send a message to notify the kernel that we're ready.\n",
              "        channel.send({})\n",
              "        if (message.buffers) {\n",
              "          for (const buffer of message.buffers) {\n",
              "            buffers.push(buffer);\n",
              "            downloaded += buffer.byteLength;\n",
              "            progress.value = downloaded;\n",
              "          }\n",
              "        }\n",
              "      }\n",
              "      const blob = new Blob(buffers, {type: 'application/binary'});\n",
              "      const a = document.createElement('a');\n",
              "      a.href = window.URL.createObjectURL(blob);\n",
              "      a.download = filename;\n",
              "      div.appendChild(a);\n",
              "      a.click();\n",
              "      div.remove();\n",
              "    }\n",
              "  "
            ]
          },
          "metadata": {}
        },
        {
          "output_type": "display_data",
          "data": {
            "text/plain": [
              "<IPython.core.display.Javascript object>"
            ],
            "application/javascript": [
              "download(\"download_fe8ca7f5-d9d8-4001-bc91-3fc39201cc63\", \"merged_data.csv\", 46409)"
            ]
          },
          "metadata": {}
        }
      ]
    },
    {
      "cell_type": "code",
      "source": [
        "files.download('/content/merged_dict.csv')"
      ],
      "metadata": {
        "colab": {
          "base_uri": "https://localhost:8080/",
          "height": 17
        },
        "id": "E6GmgV4Yrncn",
        "outputId": "98c41775-c96f-456a-eba3-99742ea2acfd"
      },
      "execution_count": null,
      "outputs": [
        {
          "output_type": "display_data",
          "data": {
            "text/plain": [
              "<IPython.core.display.Javascript object>"
            ],
            "application/javascript": [
              "\n",
              "    async function download(id, filename, size) {\n",
              "      if (!google.colab.kernel.accessAllowed) {\n",
              "        return;\n",
              "      }\n",
              "      const div = document.createElement('div');\n",
              "      const label = document.createElement('label');\n",
              "      label.textContent = `Downloading \"${filename}\": `;\n",
              "      div.appendChild(label);\n",
              "      const progress = document.createElement('progress');\n",
              "      progress.max = size;\n",
              "      div.appendChild(progress);\n",
              "      document.body.appendChild(div);\n",
              "\n",
              "      const buffers = [];\n",
              "      let downloaded = 0;\n",
              "\n",
              "      const channel = await google.colab.kernel.comms.open(id);\n",
              "      // Send a message to notify the kernel that we're ready.\n",
              "      channel.send({})\n",
              "\n",
              "      for await (const message of channel.messages) {\n",
              "        // Send a message to notify the kernel that we're ready.\n",
              "        channel.send({})\n",
              "        if (message.buffers) {\n",
              "          for (const buffer of message.buffers) {\n",
              "            buffers.push(buffer);\n",
              "            downloaded += buffer.byteLength;\n",
              "            progress.value = downloaded;\n",
              "          }\n",
              "        }\n",
              "      }\n",
              "      const blob = new Blob(buffers, {type: 'application/binary'});\n",
              "      const a = document.createElement('a');\n",
              "      a.href = window.URL.createObjectURL(blob);\n",
              "      a.download = filename;\n",
              "      div.appendChild(a);\n",
              "      a.click();\n",
              "      div.remove();\n",
              "    }\n",
              "  "
            ]
          },
          "metadata": {}
        },
        {
          "output_type": "display_data",
          "data": {
            "text/plain": [
              "<IPython.core.display.Javascript object>"
            ],
            "application/javascript": [
              "download(\"download_b1937d37-d064-4467-a576-a928a3cc1c29\", \"merged_dict.csv\", 2244)"
            ]
          },
          "metadata": {}
        }
      ]
    }
  ]
}